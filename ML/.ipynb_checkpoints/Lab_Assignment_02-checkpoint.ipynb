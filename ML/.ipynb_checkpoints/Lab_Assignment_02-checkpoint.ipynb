{
 "cells": [
  {
   "cell_type": "markdown",
   "metadata": {
    "id": "HXfADHJ9KokO"
   },
   "source": [
    "# CSE 2794 – Machine Learning Workshop 2\n",
    "# LAB ASSIGNMENT-1: PREPROCESSING TECHNIQUES FOR NEURAL NETWORKS\n",
    "\n",
    "## Name: Sai Kiran Mohanty \n",
    "## Reg. No.: 2341013236\n",
    "## Section: 2c3"
   ]
  },
  {
   "cell_type": "markdown",
   "metadata": {
    "id": "iIwUljjnKYVT"
   },
   "source": [
    "# 1. Data Exploration and Visualization\n",
    "* Load the dataset and analyze its structure.\n",
    "* Generate summary statistics and check for missing values.\n",
    "* Visualize feature distributions (histograms, boxplots) to identify outliers."
   ]
  },
  {
   "cell_type": "code",
   "execution_count": 3,
   "metadata": {
    "colab": {
     "base_uri": "https://localhost:8080/",
     "height": 426
    },
    "id": "42-OqB-YIlHM",
    "outputId": "79036084-1565-4484-b591-a35fd6d32ca9"
   },
   "outputs": [],
   "source": [
    "import pandas as pd\n",
    "import numpy as np\n",
    "import seaborn as sns\n",
    "import matplotlib.pyplot as plt\n",
    "from sklearn.preprocessing import StandardScaler , MinMaxScaler ,  KBinsDiscretizer , OneHotEncoder , LabelEncoder\n",
    "from scipy.stats import zscore\n",
    "from sklearn.decomposition import PCA\n",
    "from sklearn.model_selection import train_test_split"
   ]
  },
  {
   "cell_type": "code",
   "execution_count": 4,
   "metadata": {},
   "outputs": [
    {
     "data": {
      "text/html": [
       "<div>\n",
       "<style scoped>\n",
       "    .dataframe tbody tr th:only-of-type {\n",
       "        vertical-align: middle;\n",
       "    }\n",
       "\n",
       "    .dataframe tbody tr th {\n",
       "        vertical-align: top;\n",
       "    }\n",
       "\n",
       "    .dataframe thead th {\n",
       "        text-align: right;\n",
       "    }\n",
       "</style>\n",
       "<table border=\"1\" class=\"dataframe\">\n",
       "  <thead>\n",
       "    <tr style=\"text-align: right;\">\n",
       "      <th></th>\n",
       "      <th>fixed acidity</th>\n",
       "      <th>volatile acidity</th>\n",
       "      <th>citric acid</th>\n",
       "      <th>residual sugar</th>\n",
       "      <th>chlorides</th>\n",
       "      <th>free sulfur dioxide</th>\n",
       "      <th>total sulfur dioxide</th>\n",
       "      <th>density</th>\n",
       "      <th>pH</th>\n",
       "      <th>sulphates</th>\n",
       "      <th>alcohol</th>\n",
       "      <th>quality</th>\n",
       "    </tr>\n",
       "  </thead>\n",
       "  <tbody>\n",
       "    <tr>\n",
       "      <th>count</th>\n",
       "      <td>1599.000000</td>\n",
       "      <td>1599.000000</td>\n",
       "      <td>1599.000000</td>\n",
       "      <td>1599.000000</td>\n",
       "      <td>1599.000000</td>\n",
       "      <td>1599.000000</td>\n",
       "      <td>1599.000000</td>\n",
       "      <td>1599.000000</td>\n",
       "      <td>1599.000000</td>\n",
       "      <td>1599.000000</td>\n",
       "      <td>1599.000000</td>\n",
       "      <td>1599.000000</td>\n",
       "    </tr>\n",
       "    <tr>\n",
       "      <th>mean</th>\n",
       "      <td>8.319637</td>\n",
       "      <td>0.527821</td>\n",
       "      <td>0.270976</td>\n",
       "      <td>2.538806</td>\n",
       "      <td>0.087467</td>\n",
       "      <td>15.874922</td>\n",
       "      <td>46.467792</td>\n",
       "      <td>0.996747</td>\n",
       "      <td>3.311113</td>\n",
       "      <td>0.658149</td>\n",
       "      <td>10.422983</td>\n",
       "      <td>5.636023</td>\n",
       "    </tr>\n",
       "    <tr>\n",
       "      <th>std</th>\n",
       "      <td>1.741096</td>\n",
       "      <td>0.179060</td>\n",
       "      <td>0.194801</td>\n",
       "      <td>1.409928</td>\n",
       "      <td>0.047065</td>\n",
       "      <td>10.460157</td>\n",
       "      <td>32.895324</td>\n",
       "      <td>0.001887</td>\n",
       "      <td>0.154386</td>\n",
       "      <td>0.169507</td>\n",
       "      <td>1.065668</td>\n",
       "      <td>0.807569</td>\n",
       "    </tr>\n",
       "    <tr>\n",
       "      <th>min</th>\n",
       "      <td>4.600000</td>\n",
       "      <td>0.120000</td>\n",
       "      <td>0.000000</td>\n",
       "      <td>0.900000</td>\n",
       "      <td>0.012000</td>\n",
       "      <td>1.000000</td>\n",
       "      <td>6.000000</td>\n",
       "      <td>0.990070</td>\n",
       "      <td>2.740000</td>\n",
       "      <td>0.330000</td>\n",
       "      <td>8.400000</td>\n",
       "      <td>3.000000</td>\n",
       "    </tr>\n",
       "    <tr>\n",
       "      <th>25%</th>\n",
       "      <td>7.100000</td>\n",
       "      <td>0.390000</td>\n",
       "      <td>0.090000</td>\n",
       "      <td>1.900000</td>\n",
       "      <td>0.070000</td>\n",
       "      <td>7.000000</td>\n",
       "      <td>22.000000</td>\n",
       "      <td>0.995600</td>\n",
       "      <td>3.210000</td>\n",
       "      <td>0.550000</td>\n",
       "      <td>9.500000</td>\n",
       "      <td>5.000000</td>\n",
       "    </tr>\n",
       "    <tr>\n",
       "      <th>50%</th>\n",
       "      <td>7.900000</td>\n",
       "      <td>0.520000</td>\n",
       "      <td>0.260000</td>\n",
       "      <td>2.200000</td>\n",
       "      <td>0.079000</td>\n",
       "      <td>14.000000</td>\n",
       "      <td>38.000000</td>\n",
       "      <td>0.996750</td>\n",
       "      <td>3.310000</td>\n",
       "      <td>0.620000</td>\n",
       "      <td>10.200000</td>\n",
       "      <td>6.000000</td>\n",
       "    </tr>\n",
       "    <tr>\n",
       "      <th>75%</th>\n",
       "      <td>9.200000</td>\n",
       "      <td>0.640000</td>\n",
       "      <td>0.420000</td>\n",
       "      <td>2.600000</td>\n",
       "      <td>0.090000</td>\n",
       "      <td>21.000000</td>\n",
       "      <td>62.000000</td>\n",
       "      <td>0.997835</td>\n",
       "      <td>3.400000</td>\n",
       "      <td>0.730000</td>\n",
       "      <td>11.100000</td>\n",
       "      <td>6.000000</td>\n",
       "    </tr>\n",
       "    <tr>\n",
       "      <th>max</th>\n",
       "      <td>15.900000</td>\n",
       "      <td>1.580000</td>\n",
       "      <td>1.000000</td>\n",
       "      <td>15.500000</td>\n",
       "      <td>0.611000</td>\n",
       "      <td>72.000000</td>\n",
       "      <td>289.000000</td>\n",
       "      <td>1.003690</td>\n",
       "      <td>4.010000</td>\n",
       "      <td>2.000000</td>\n",
       "      <td>14.900000</td>\n",
       "      <td>8.000000</td>\n",
       "    </tr>\n",
       "  </tbody>\n",
       "</table>\n",
       "</div>"
      ],
      "text/plain": [
       "       fixed acidity  volatile acidity  citric acid  residual sugar  \\\n",
       "count    1599.000000       1599.000000  1599.000000     1599.000000   \n",
       "mean        8.319637          0.527821     0.270976        2.538806   \n",
       "std         1.741096          0.179060     0.194801        1.409928   \n",
       "min         4.600000          0.120000     0.000000        0.900000   \n",
       "25%         7.100000          0.390000     0.090000        1.900000   \n",
       "50%         7.900000          0.520000     0.260000        2.200000   \n",
       "75%         9.200000          0.640000     0.420000        2.600000   \n",
       "max        15.900000          1.580000     1.000000       15.500000   \n",
       "\n",
       "         chlorides  free sulfur dioxide  total sulfur dioxide      density  \\\n",
       "count  1599.000000          1599.000000           1599.000000  1599.000000   \n",
       "mean      0.087467            15.874922             46.467792     0.996747   \n",
       "std       0.047065            10.460157             32.895324     0.001887   \n",
       "min       0.012000             1.000000              6.000000     0.990070   \n",
       "25%       0.070000             7.000000             22.000000     0.995600   \n",
       "50%       0.079000            14.000000             38.000000     0.996750   \n",
       "75%       0.090000            21.000000             62.000000     0.997835   \n",
       "max       0.611000            72.000000            289.000000     1.003690   \n",
       "\n",
       "                pH    sulphates      alcohol      quality  \n",
       "count  1599.000000  1599.000000  1599.000000  1599.000000  \n",
       "mean      3.311113     0.658149    10.422983     5.636023  \n",
       "std       0.154386     0.169507     1.065668     0.807569  \n",
       "min       2.740000     0.330000     8.400000     3.000000  \n",
       "25%       3.210000     0.550000     9.500000     5.000000  \n",
       "50%       3.310000     0.620000    10.200000     6.000000  \n",
       "75%       3.400000     0.730000    11.100000     6.000000  \n",
       "max       4.010000     2.000000    14.900000     8.000000  "
      ]
     },
     "execution_count": 4,
     "metadata": {},
     "output_type": "execute_result"
    }
   ],
   "source": [
    "data = pd.read_csv(\"winequality-red.csv\", delimiter=';')\n",
    "data.describe()"
   ]
  },
  {
   "cell_type": "code",
   "execution_count": 5,
   "metadata": {
    "colab": {
     "base_uri": "https://localhost:8080/"
    },
    "id": "D8fqdSigIvyw",
    "outputId": "a08bd104-109e-4875-f09a-3d4bacbdae40"
   },
   "outputs": [
    {
     "name": "stdout",
     "output_type": "stream",
     "text": [
      "<class 'pandas.core.frame.DataFrame'>\n",
      "RangeIndex: 1599 entries, 0 to 1598\n",
      "Data columns (total 12 columns):\n",
      " #   Column                Non-Null Count  Dtype  \n",
      "---  ------                --------------  -----  \n",
      " 0   fixed acidity         1599 non-null   float64\n",
      " 1   volatile acidity      1599 non-null   float64\n",
      " 2   citric acid           1599 non-null   float64\n",
      " 3   residual sugar        1599 non-null   float64\n",
      " 4   chlorides             1599 non-null   float64\n",
      " 5   free sulfur dioxide   1599 non-null   float64\n",
      " 6   total sulfur dioxide  1599 non-null   float64\n",
      " 7   density               1599 non-null   float64\n",
      " 8   pH                    1599 non-null   float64\n",
      " 9   sulphates             1599 non-null   float64\n",
      " 10  alcohol               1599 non-null   float64\n",
      " 11  quality               1599 non-null   int64  \n",
      "dtypes: float64(11), int64(1)\n",
      "memory usage: 150.0 KB\n"
     ]
    }
   ],
   "source": [
    "data.info()"
   ]
  },
  {
   "cell_type": "code",
   "execution_count": 6,
   "metadata": {
    "id": "bCBPO3KIK4sz"
   },
   "outputs": [
    {
     "data": {
      "text/plain": [
       "(1599, 12)"
      ]
     },
     "execution_count": 6,
     "metadata": {},
     "output_type": "execute_result"
    }
   ],
   "source": [
    "data.shape"
   ]
  },
  {
   "cell_type": "code",
   "execution_count": 7,
   "metadata": {},
   "outputs": [
    {
     "data": {
      "text/plain": [
       "fixed acidity           0\n",
       "volatile acidity        0\n",
       "citric acid             0\n",
       "residual sugar          0\n",
       "chlorides               0\n",
       "free sulfur dioxide     0\n",
       "total sulfur dioxide    0\n",
       "density                 0\n",
       "pH                      0\n",
       "sulphates               0\n",
       "alcohol                 0\n",
       "quality                 0\n",
       "dtype: int64"
      ]
     },
     "execution_count": 7,
     "metadata": {},
     "output_type": "execute_result"
    }
   ],
   "source": [
    "data.isnull().sum()"
   ]
  },
  {
   "cell_type": "code",
   "execution_count": 8,
   "metadata": {},
   "outputs": [],
   "source": [
    "col = data.columns\n",
    "n_col = len(col)"
   ]
  },
  {
   "cell_type": "code",
   "execution_count": 9,
   "metadata": {},
   "outputs": [
    {
     "data": {
      "text/plain": [
       "<Axes: >"
      ]
     },
     "execution_count": 9,
     "metadata": {},
     "output_type": "execute_result"
    },
    {
     "data": {
      "image/png": "[encoded data removed]",
      "text/plain": [
       "<Figure size 1400x400 with 1 Axes>"
      ]
     },
     "metadata": {},
     "output_type": "display_data"
    }
   ],
   "source": [
    "plt.figure(figsize=(14,4))\n",
    "sns.boxplot(data)"
   ]
  },
  {
   "cell_type": "code",
   "execution_count": 10,
   "metadata": {},
   "outputs": [
    {
     "data": {
      "text/plain": [
       "<Axes: ylabel='Count'>"
      ]
     },
     "execution_count": 10,
     "metadata": {},
     "output_type": "execute_result"
    },
    {
     "data": {
      "image/png": "[encoded data removed]",
      "text/plain": [
       "<Figure size 1000x400 with 1 Axes>"
      ]
     },
     "metadata": {},
     "output_type": "display_data"
    }
   ],
   "source": [
    "plt.figure(figsize=(10,4))\n",
    "sns.histplot(data.iloc[:,:])"
   ]
  },
  {
   "cell_type": "markdown",
   "metadata": {
    "id": "4rms3XCbLBAu"
   },
   "source": [
    "# 2. Data Cleaning\n",
    "*\tHandle Missing Values (if present; else, explain potential methods).\n",
    "*\tOutlier Treatment: Use IQR or Z-score to detect and handle outliers (e.g., capping).\n"
   ]
  },
  {
   "cell_type": "markdown",
   "metadata": {},
   "source": [
    "### There are two ways handle missing data :\n",
    "* Remove method: Remove the row which have missing values.\n",
    "* Imputation methed: Impute the values randomly, maximum/minimum/mean of value of the column , knn imputer can be used for multivariate imputation  "
   ]
  },
  {
   "cell_type": "code",
   "execution_count": 13,
   "metadata": {},
   "outputs": [],
   "source": [
    "z_score = {}\n",
    "for column in data.select_dtypes(include=[np.number]).columns:\n",
    "    z_score[column] = zscore(data[column])\n",
    "for column in z_score:\n",
    "    data[f'Z_{column}'] = z_score[column]"
   ]
  },
  {
   "cell_type": "code",
   "execution_count": 14,
   "metadata": {
    "id": "89lkyhK2LGF0"
   },
   "outputs": [
    {
     "data": {
      "text/html": [
       "<div>\n",
       "<style scoped>\n",
       "    .dataframe tbody tr th:only-of-type {\n",
       "        vertical-align: middle;\n",
       "    }\n",
       "\n",
       "    .dataframe tbody tr th {\n",
       "        vertical-align: top;\n",
       "    }\n",
       "\n",
       "    .dataframe thead th {\n",
       "        text-align: right;\n",
       "    }\n",
       "</style>\n",
       "<table border=\"1\" class=\"dataframe\">\n",
       "  <thead>\n",
       "    <tr style=\"text-align: right;\">\n",
       "      <th></th>\n",
       "      <th>Z_fixed acidity</th>\n",
       "      <th>Z_volatile acidity</th>\n",
       "      <th>Z_citric acid</th>\n",
       "      <th>Z_residual sugar</th>\n",
       "      <th>Z_chlorides</th>\n",
       "      <th>Z_free sulfur dioxide</th>\n",
       "      <th>Z_total sulfur dioxide</th>\n",
       "      <th>Z_density</th>\n",
       "      <th>Z_pH</th>\n",
       "      <th>Z_sulphates</th>\n",
       "      <th>Z_alcohol</th>\n",
       "      <th>Z_quality</th>\n",
       "    </tr>\n",
       "  </thead>\n",
       "  <tbody>\n",
       "    <tr>\n",
       "      <th>0</th>\n",
       "      <td>-0.528360</td>\n",
       "      <td>0.961877</td>\n",
       "      <td>-1.391472</td>\n",
       "      <td>-0.453218</td>\n",
       "      <td>-0.243707</td>\n",
       "      <td>-0.466193</td>\n",
       "      <td>-0.379133</td>\n",
       "      <td>0.558274</td>\n",
       "      <td>1.288643</td>\n",
       "      <td>-0.579207</td>\n",
       "      <td>-0.960246</td>\n",
       "      <td>-0.787823</td>\n",
       "    </tr>\n",
       "    <tr>\n",
       "      <th>1</th>\n",
       "      <td>-0.298547</td>\n",
       "      <td>1.967442</td>\n",
       "      <td>-1.391472</td>\n",
       "      <td>0.043416</td>\n",
       "      <td>0.223875</td>\n",
       "      <td>0.872638</td>\n",
       "      <td>0.624363</td>\n",
       "      <td>0.028261</td>\n",
       "      <td>-0.719933</td>\n",
       "      <td>0.128950</td>\n",
       "      <td>-0.584777</td>\n",
       "      <td>-0.787823</td>\n",
       "    </tr>\n",
       "  </tbody>\n",
       "</table>\n",
       "</div>"
      ],
      "text/plain": [
       "   Z_fixed acidity  Z_volatile acidity  Z_citric acid  Z_residual sugar  \\\n",
       "0        -0.528360            0.961877      -1.391472         -0.453218   \n",
       "1        -0.298547            1.967442      -1.391472          0.043416   \n",
       "\n",
       "   Z_chlorides  Z_free sulfur dioxide  Z_total sulfur dioxide  Z_density  \\\n",
       "0    -0.243707              -0.466193               -0.379133   0.558274   \n",
       "1     0.223875               0.872638                0.624363   0.028261   \n",
       "\n",
       "       Z_pH  Z_sulphates  Z_alcohol  Z_quality  \n",
       "0  1.288643    -0.579207  -0.960246  -0.787823  \n",
       "1 -0.719933     0.128950  -0.584777  -0.787823  "
      ]
     },
     "execution_count": 14,
     "metadata": {},
     "output_type": "execute_result"
    }
   ],
   "source": [
    "z_data = data.iloc[:,n_col:]\n",
    "z_data.head(2)"
   ]
  },
  {
   "cell_type": "code",
   "execution_count": 15,
   "metadata": {},
   "outputs": [
    {
     "name": "stdout",
     "output_type": "stream",
     "text": [
      "<class 'pandas.core.frame.DataFrame'>\n",
      "RangeIndex: 1599 entries, 0 to 1598\n",
      "Data columns (total 12 columns):\n",
      " #   Column                  Non-Null Count  Dtype  \n",
      "---  ------                  --------------  -----  \n",
      " 0   Z_fixed acidity         1599 non-null   float64\n",
      " 1   Z_volatile acidity      1599 non-null   float64\n",
      " 2   Z_citric acid           1599 non-null   float64\n",
      " 3   Z_residual sugar        1599 non-null   float64\n",
      " 4   Z_chlorides             1599 non-null   float64\n",
      " 5   Z_free sulfur dioxide   1599 non-null   float64\n",
      " 6   Z_total sulfur dioxide  1599 non-null   float64\n",
      " 7   Z_density               1599 non-null   float64\n",
      " 8   Z_pH                    1599 non-null   float64\n",
      " 9   Z_sulphates             1599 non-null   float64\n",
      " 10  Z_alcohol               1599 non-null   float64\n",
      " 11  Z_quality               1599 non-null   float64\n",
      "dtypes: float64(12)\n",
      "memory usage: 150.0 KB\n"
     ]
    }
   ],
   "source": [
    "z_data.info()"
   ]
  },
  {
   "cell_type": "code",
   "execution_count": 16,
   "metadata": {},
   "outputs": [
    {
     "data": {
      "text/html": [
       "<div>\n",
       "<style scoped>\n",
       "    .dataframe tbody tr th:only-of-type {\n",
       "        vertical-align: middle;\n",
       "    }\n",
       "\n",
       "    .dataframe tbody tr th {\n",
       "        vertical-align: top;\n",
       "    }\n",
       "\n",
       "    .dataframe thead th {\n",
       "        text-align: right;\n",
       "    }\n",
       "</style>\n",
       "<table border=\"1\" class=\"dataframe\">\n",
       "  <thead>\n",
       "    <tr style=\"text-align: right;\">\n",
       "      <th></th>\n",
       "      <th>Z_fixed acidity</th>\n",
       "      <th>Z_volatile acidity</th>\n",
       "      <th>Z_citric acid</th>\n",
       "      <th>Z_residual sugar</th>\n",
       "      <th>Z_chlorides</th>\n",
       "      <th>Z_free sulfur dioxide</th>\n",
       "      <th>Z_total sulfur dioxide</th>\n",
       "      <th>Z_density</th>\n",
       "      <th>Z_pH</th>\n",
       "      <th>Z_sulphates</th>\n",
       "      <th>Z_alcohol</th>\n",
       "      <th>Z_quality</th>\n",
       "    </tr>\n",
       "  </thead>\n",
       "  <tbody>\n",
       "    <tr>\n",
       "      <th>count</th>\n",
       "      <td>1.599000e+03</td>\n",
       "      <td>1.599000e+03</td>\n",
       "      <td>1.599000e+03</td>\n",
       "      <td>1.599000e+03</td>\n",
       "      <td>1.599000e+03</td>\n",
       "      <td>1.599000e+03</td>\n",
       "      <td>1.599000e+03</td>\n",
       "      <td>1.599000e+03</td>\n",
       "      <td>1.599000e+03</td>\n",
       "      <td>1.599000e+03</td>\n",
       "      <td>1.599000e+03</td>\n",
       "      <td>1.599000e+03</td>\n",
       "    </tr>\n",
       "    <tr>\n",
       "      <th>mean</th>\n",
       "      <td>3.554936e-16</td>\n",
       "      <td>1.733031e-16</td>\n",
       "      <td>-8.887339e-17</td>\n",
       "      <td>-1.244227e-16</td>\n",
       "      <td>3.732682e-16</td>\n",
       "      <td>-6.221137e-17</td>\n",
       "      <td>4.443669e-17</td>\n",
       "      <td>-3.473172e-14</td>\n",
       "      <td>2.861723e-15</td>\n",
       "      <td>6.754377e-16</td>\n",
       "      <td>1.066481e-16</td>\n",
       "      <td>8.887339e-17</td>\n",
       "    </tr>\n",
       "    <tr>\n",
       "      <th>std</th>\n",
       "      <td>1.000313e+00</td>\n",
       "      <td>1.000313e+00</td>\n",
       "      <td>1.000313e+00</td>\n",
       "      <td>1.000313e+00</td>\n",
       "      <td>1.000313e+00</td>\n",
       "      <td>1.000313e+00</td>\n",
       "      <td>1.000313e+00</td>\n",
       "      <td>1.000313e+00</td>\n",
       "      <td>1.000313e+00</td>\n",
       "      <td>1.000313e+00</td>\n",
       "      <td>1.000313e+00</td>\n",
       "      <td>1.000313e+00</td>\n",
       "    </tr>\n",
       "    <tr>\n",
       "      <th>min</th>\n",
       "      <td>-2.137045e+00</td>\n",
       "      <td>-2.278280e+00</td>\n",
       "      <td>-1.391472e+00</td>\n",
       "      <td>-1.162696e+00</td>\n",
       "      <td>-1.603945e+00</td>\n",
       "      <td>-1.422500e+00</td>\n",
       "      <td>-1.230584e+00</td>\n",
       "      <td>-3.538731e+00</td>\n",
       "      <td>-3.700401e+00</td>\n",
       "      <td>-1.936507e+00</td>\n",
       "      <td>-1.898919e+00</td>\n",
       "      <td>-3.265165e+00</td>\n",
       "    </tr>\n",
       "    <tr>\n",
       "      <th>25%</th>\n",
       "      <td>-7.007187e-01</td>\n",
       "      <td>-7.699311e-01</td>\n",
       "      <td>-9.293181e-01</td>\n",
       "      <td>-4.532184e-01</td>\n",
       "      <td>-3.712290e-01</td>\n",
       "      <td>-8.487156e-01</td>\n",
       "      <td>-7.440403e-01</td>\n",
       "      <td>-6.077557e-01</td>\n",
       "      <td>-6.551405e-01</td>\n",
       "      <td>-6.382196e-01</td>\n",
       "      <td>-8.663789e-01</td>\n",
       "      <td>-7.878226e-01</td>\n",
       "    </tr>\n",
       "    <tr>\n",
       "      <th>50%</th>\n",
       "      <td>-2.410944e-01</td>\n",
       "      <td>-4.368911e-02</td>\n",
       "      <td>-5.636026e-02</td>\n",
       "      <td>-2.403750e-01</td>\n",
       "      <td>-1.799455e-01</td>\n",
       "      <td>-1.793002e-01</td>\n",
       "      <td>-2.574968e-01</td>\n",
       "      <td>1.760083e-03</td>\n",
       "      <td>-7.212705e-03</td>\n",
       "      <td>-2.251281e-01</td>\n",
       "      <td>-2.093081e-01</td>\n",
       "      <td>4.508484e-01</td>\n",
       "    </tr>\n",
       "    <tr>\n",
       "      <th>75%</th>\n",
       "      <td>5.057952e-01</td>\n",
       "      <td>6.266881e-01</td>\n",
       "      <td>7.652471e-01</td>\n",
       "      <td>4.341614e-02</td>\n",
       "      <td>5.384542e-02</td>\n",
       "      <td>4.901152e-01</td>\n",
       "      <td>4.723184e-01</td>\n",
       "      <td>5.768249e-01</td>\n",
       "      <td>5.759223e-01</td>\n",
       "      <td>4.240158e-01</td>\n",
       "      <td>6.354971e-01</td>\n",
       "      <td>4.508484e-01</td>\n",
       "    </tr>\n",
       "    <tr>\n",
       "      <th>max</th>\n",
       "      <td>4.355149e+00</td>\n",
       "      <td>5.877976e+00</td>\n",
       "      <td>3.743574e+00</td>\n",
       "      <td>9.195681e+00</td>\n",
       "      <td>1.112703e+01</td>\n",
       "      <td>5.367284e+00</td>\n",
       "      <td>7.375154e+00</td>\n",
       "      <td>3.680055e+00</td>\n",
       "      <td>4.528282e+00</td>\n",
       "      <td>7.918677e+00</td>\n",
       "      <td>4.202453e+00</td>\n",
       "      <td>2.928190e+00</td>\n",
       "    </tr>\n",
       "  </tbody>\n",
       "</table>\n",
       "</div>"
      ],
      "text/plain": [
       "       Z_fixed acidity  Z_volatile acidity  Z_citric acid  Z_residual sugar  \\\n",
       "count     1.599000e+03        1.599000e+03   1.599000e+03      1.599000e+03   \n",
       "mean      3.554936e-16        1.733031e-16  -8.887339e-17     -1.244227e-16   \n",
       "std       1.000313e+00        1.000313e+00   1.000313e+00      1.000313e+00   \n",
       "min      -2.137045e+00       -2.278280e+00  -1.391472e+00     -1.162696e+00   \n",
       "25%      -7.007187e-01       -7.699311e-01  -9.293181e-01     -4.532184e-01   \n",
       "50%      -2.410944e-01       -4.368911e-02  -5.636026e-02     -2.403750e-01   \n",
       "75%       5.057952e-01        6.266881e-01   7.652471e-01      4.341614e-02   \n",
       "max       4.355149e+00        5.877976e+00   3.743574e+00      9.195681e+00   \n",
       "\n",
       "        Z_chlorides  Z_free sulfur dioxide  Z_total sulfur dioxide  \\\n",
       "count  1.599000e+03           1.599000e+03            1.599000e+03   \n",
       "mean   3.732682e-16          -6.221137e-17            4.443669e-17   \n",
       "std    1.000313e+00           1.000313e+00            1.000313e+00   \n",
       "min   -1.603945e+00          -1.422500e+00           -1.230584e+00   \n",
       "25%   -3.712290e-01          -8.487156e-01           -7.440403e-01   \n",
       "50%   -1.799455e-01          -1.793002e-01           -2.574968e-01   \n",
       "75%    5.384542e-02           4.901152e-01            4.723184e-01   \n",
       "max    1.112703e+01           5.367284e+00            7.375154e+00   \n",
       "\n",
       "          Z_density          Z_pH   Z_sulphates     Z_alcohol     Z_quality  \n",
       "count  1.599000e+03  1.599000e+03  1.599000e+03  1.599000e+03  1.599000e+03  \n",
       "mean  -3.473172e-14  2.861723e-15  6.754377e-16  1.066481e-16  8.887339e-17  \n",
       "std    1.000313e+00  1.000313e+00  1.000313e+00  1.000313e+00  1.000313e+00  \n",
       "min   -3.538731e+00 -3.700401e+00 -1.936507e+00 -1.898919e+00 -3.265165e+00  \n",
       "25%   -6.077557e-01 -6.551405e-01 -6.382196e-01 -8.663789e-01 -7.878226e-01  \n",
       "50%    1.760083e-03 -7.212705e-03 -2.251281e-01 -2.093081e-01  4.508484e-01  \n",
       "75%    5.768249e-01  5.759223e-01  4.240158e-01  6.354971e-01  4.508484e-01  \n",
       "max    3.680055e+00  4.528282e+00  7.918677e+00  4.202453e+00  2.928190e+00  "
      ]
     },
     "execution_count": 16,
     "metadata": {},
     "output_type": "execute_result"
    }
   ],
   "source": [
    "z_data.describe()"
   ]
  },
  {
   "cell_type": "code",
   "execution_count": 17,
   "metadata": {},
   "outputs": [
    {
     "data": {
      "text/plain": [
       "<Axes: >"
      ]
     },
     "execution_count": 17,
     "metadata": {},
     "output_type": "execute_result"
    },
    {
     "data": {
      "image/png": "[encoded data removed]",
      "text/plain": [
       "<Figure size 1400x400 with 1 Axes>"
      ]
     },
     "metadata": {},
     "output_type": "display_data"
    }
   ],
   "source": [
    "plt.figure(figsize=(14,4))\n",
    "sns.boxenplot(z_data)"
   ]
  },
  {
   "cell_type": "code",
   "execution_count": 18,
   "metadata": {},
   "outputs": [
    {
     "data": {
      "text/plain": [
       "<Axes: ylabel='Count'>"
      ]
     },
     "execution_count": 18,
     "metadata": {},
     "output_type": "execute_result"
    },
    {
     "data": {
      "image/png": "[encoded data removed]",
      "text/plain": [
       "<Figure size 1000x400 with 1 Axes>"
      ]
     },
     "metadata": {},
     "output_type": "display_data"
    }
   ],
   "source": [
    "plt.figure(figsize=(10,4))\n",
    "sns.histplot(z_data.iloc[:,:])"
   ]
  },
  {
   "cell_type": "markdown",
   "metadata": {
    "id": "Rw76i1jZLQs1"
   },
   "source": [
    "# 3. Feature Engineering\n",
    "*\tCreate a Categorical Feature: Bin a numerical column (e.g., alcohol into low, medium, high).\n",
    "*\tEncode Categorical Features: Apply one-hot encoding and label encoding.\n",
    "\n",
    "\n"
   ]
  },
  {
   "cell_type": "code",
   "execution_count": 20,
   "metadata": {
    "id": "X6AdiJkXLpqf"
   },
   "outputs": [
    {
     "data": {
      "text/plain": [
       "count    1.599000e+03\n",
       "mean     1.066481e-16\n",
       "std      1.000313e+00\n",
       "min     -1.898919e+00\n",
       "25%     -8.663789e-01\n",
       "50%     -2.093081e-01\n",
       "75%      6.354971e-01\n",
       "max      4.202453e+00\n",
       "Name: Z_alcohol, dtype: float64"
      ]
     },
     "execution_count": 20,
     "metadata": {},
     "output_type": "execute_result"
    }
   ],
   "source": [
    "z_data['Z_alcohol'].describe()"
   ]
  },
  {
   "cell_type": "code",
   "execution_count": 21,
   "metadata": {},
   "outputs": [],
   "source": [
    "kbins = KBinsDiscretizer(n_bins=3,encode='ordinal',strategy='uniform')\n",
    "z_data['Z_alcohol'] = kbins.fit_transform(z_data[['Z_alcohol']])\n",
    "bin_labels = {0:'low',1:'medium',2:'high'}\n",
    "z_data['Z_alcohol'] = z_data['Z_alcohol'].map(bin_labels)"
   ]
  },
  {
   "cell_type": "code",
   "execution_count": 22,
   "metadata": {},
   "outputs": [],
   "source": [
    "# ohe = OneHotEncoder(sparse_output=False)\n",
    "# en_data = ohe.fit_transform(z_data[['Z_alcohol']])\n",
    "# en_df = pd.DataFrame(en_data,columns=ohe.categories_[0])\n",
    "# z_data = pd.concat([z_data,en_df], axis = 1).drop('Z_alcohol',axis=1)\n",
    "le = LabelEncoder()\n",
    "z_data['Z_alcohol'] = le.fit_transform(z_data['Z_alcohol'])"
   ]
  },
  {
   "cell_type": "markdown",
   "metadata": {
    "id": "Hk9DQ6JwLTaW"
   },
   "source": [
    "# 4. Feature Scaling\n",
    "*\tNormalization: Scale features to [0, 1] using MinMaxScaler.\n",
    "*\tStandardization: Use StandardScaler to transform data to mean=0, variance=1.\n",
    "\n"
   ]
  },
  {
   "cell_type": "code",
   "execution_count": 24,
   "metadata": {
    "id": "8FJDncQgLqMu"
   },
   "outputs": [],
   "source": [
    "scaler = MinMaxScaler()\n",
    "z_data.iloc[:, [0,2]] = scaler.fit_transform(z_data.iloc[:, [0,2]])"
   ]
  },
  {
   "cell_type": "code",
   "execution_count": 25,
   "metadata": {},
   "outputs": [
    {
     "data": {
      "text/html": [
       "<div>\n",
       "<style scoped>\n",
       "    .dataframe tbody tr th:only-of-type {\n",
       "        vertical-align: middle;\n",
       "    }\n",
       "\n",
       "    .dataframe tbody tr th {\n",
       "        vertical-align: top;\n",
       "    }\n",
       "\n",
       "    .dataframe thead th {\n",
       "        text-align: right;\n",
       "    }\n",
       "</style>\n",
       "<table border=\"1\" class=\"dataframe\">\n",
       "  <thead>\n",
       "    <tr style=\"text-align: right;\">\n",
       "      <th></th>\n",
       "      <th>Z_fixed acidity</th>\n",
       "      <th>Z_volatile acidity</th>\n",
       "      <th>Z_citric acid</th>\n",
       "      <th>Z_residual sugar</th>\n",
       "      <th>Z_chlorides</th>\n",
       "      <th>Z_free sulfur dioxide</th>\n",
       "      <th>Z_total sulfur dioxide</th>\n",
       "      <th>Z_density</th>\n",
       "      <th>Z_pH</th>\n",
       "      <th>Z_sulphates</th>\n",
       "      <th>Z_alcohol</th>\n",
       "      <th>Z_quality</th>\n",
       "    </tr>\n",
       "  </thead>\n",
       "  <tbody>\n",
       "    <tr>\n",
       "      <th>count</th>\n",
       "      <td>1599.000000</td>\n",
       "      <td>1.599000e+03</td>\n",
       "      <td>1599.000000</td>\n",
       "      <td>1.599000e+03</td>\n",
       "      <td>1.599000e+03</td>\n",
       "      <td>1.599000e+03</td>\n",
       "      <td>1.599000e+03</td>\n",
       "      <td>1.599000e+03</td>\n",
       "      <td>1.599000e+03</td>\n",
       "      <td>1.599000e+03</td>\n",
       "      <td>1599.000000</td>\n",
       "      <td>1.599000e+03</td>\n",
       "    </tr>\n",
       "    <tr>\n",
       "      <th>mean</th>\n",
       "      <td>0.329171</td>\n",
       "      <td>1.733031e-16</td>\n",
       "      <td>0.270976</td>\n",
       "      <td>-1.244227e-16</td>\n",
       "      <td>3.732682e-16</td>\n",
       "      <td>-6.221137e-17</td>\n",
       "      <td>4.443669e-17</td>\n",
       "      <td>-3.473172e-14</td>\n",
       "      <td>2.861723e-15</td>\n",
       "      <td>6.754377e-16</td>\n",
       "      <td>1.315197</td>\n",
       "      <td>8.887339e-17</td>\n",
       "    </tr>\n",
       "    <tr>\n",
       "      <th>std</th>\n",
       "      <td>0.154079</td>\n",
       "      <td>1.000313e+00</td>\n",
       "      <td>0.194801</td>\n",
       "      <td>1.000313e+00</td>\n",
       "      <td>1.000313e+00</td>\n",
       "      <td>1.000313e+00</td>\n",
       "      <td>1.000313e+00</td>\n",
       "      <td>1.000313e+00</td>\n",
       "      <td>1.000313e+00</td>\n",
       "      <td>1.000313e+00</td>\n",
       "      <td>0.533684</td>\n",
       "      <td>1.000313e+00</td>\n",
       "    </tr>\n",
       "    <tr>\n",
       "      <th>min</th>\n",
       "      <td>0.000000</td>\n",
       "      <td>-2.278280e+00</td>\n",
       "      <td>0.000000</td>\n",
       "      <td>-1.162696e+00</td>\n",
       "      <td>-1.603945e+00</td>\n",
       "      <td>-1.422500e+00</td>\n",
       "      <td>-1.230584e+00</td>\n",
       "      <td>-3.538731e+00</td>\n",
       "      <td>-3.700401e+00</td>\n",
       "      <td>-1.936507e+00</td>\n",
       "      <td>0.000000</td>\n",
       "      <td>-3.265165e+00</td>\n",
       "    </tr>\n",
       "    <tr>\n",
       "      <th>25%</th>\n",
       "      <td>0.221239</td>\n",
       "      <td>-7.699311e-01</td>\n",
       "      <td>0.090000</td>\n",
       "      <td>-4.532184e-01</td>\n",
       "      <td>-3.712290e-01</td>\n",
       "      <td>-8.487156e-01</td>\n",
       "      <td>-7.440403e-01</td>\n",
       "      <td>-6.077557e-01</td>\n",
       "      <td>-6.551405e-01</td>\n",
       "      <td>-6.382196e-01</td>\n",
       "      <td>1.000000</td>\n",
       "      <td>-7.878226e-01</td>\n",
       "    </tr>\n",
       "    <tr>\n",
       "      <th>50%</th>\n",
       "      <td>0.292035</td>\n",
       "      <td>-4.368911e-02</td>\n",
       "      <td>0.260000</td>\n",
       "      <td>-2.403750e-01</td>\n",
       "      <td>-1.799455e-01</td>\n",
       "      <td>-1.793002e-01</td>\n",
       "      <td>-2.574968e-01</td>\n",
       "      <td>1.760083e-03</td>\n",
       "      <td>-7.212705e-03</td>\n",
       "      <td>-2.251281e-01</td>\n",
       "      <td>1.000000</td>\n",
       "      <td>4.508484e-01</td>\n",
       "    </tr>\n",
       "    <tr>\n",
       "      <th>75%</th>\n",
       "      <td>0.407080</td>\n",
       "      <td>6.266881e-01</td>\n",
       "      <td>0.420000</td>\n",
       "      <td>4.341614e-02</td>\n",
       "      <td>5.384542e-02</td>\n",
       "      <td>4.901152e-01</td>\n",
       "      <td>4.723184e-01</td>\n",
       "      <td>5.768249e-01</td>\n",
       "      <td>5.759223e-01</td>\n",
       "      <td>4.240158e-01</td>\n",
       "      <td>2.000000</td>\n",
       "      <td>4.508484e-01</td>\n",
       "    </tr>\n",
       "    <tr>\n",
       "      <th>max</th>\n",
       "      <td>1.000000</td>\n",
       "      <td>5.877976e+00</td>\n",
       "      <td>1.000000</td>\n",
       "      <td>9.195681e+00</td>\n",
       "      <td>1.112703e+01</td>\n",
       "      <td>5.367284e+00</td>\n",
       "      <td>7.375154e+00</td>\n",
       "      <td>3.680055e+00</td>\n",
       "      <td>4.528282e+00</td>\n",
       "      <td>7.918677e+00</td>\n",
       "      <td>2.000000</td>\n",
       "      <td>2.928190e+00</td>\n",
       "    </tr>\n",
       "  </tbody>\n",
       "</table>\n",
       "</div>"
      ],
      "text/plain": [
       "       Z_fixed acidity  Z_volatile acidity  Z_citric acid  Z_residual sugar  \\\n",
       "count      1599.000000        1.599000e+03    1599.000000      1.599000e+03   \n",
       "mean          0.329171        1.733031e-16       0.270976     -1.244227e-16   \n",
       "std           0.154079        1.000313e+00       0.194801      1.000313e+00   \n",
       "min           0.000000       -2.278280e+00       0.000000     -1.162696e+00   \n",
       "25%           0.221239       -7.699311e-01       0.090000     -4.532184e-01   \n",
       "50%           0.292035       -4.368911e-02       0.260000     -2.403750e-01   \n",
       "75%           0.407080        6.266881e-01       0.420000      4.341614e-02   \n",
       "max           1.000000        5.877976e+00       1.000000      9.195681e+00   \n",
       "\n",
       "        Z_chlorides  Z_free sulfur dioxide  Z_total sulfur dioxide  \\\n",
       "count  1.599000e+03           1.599000e+03            1.599000e+03   \n",
       "mean   3.732682e-16          -6.221137e-17            4.443669e-17   \n",
       "std    1.000313e+00           1.000313e+00            1.000313e+00   \n",
       "min   -1.603945e+00          -1.422500e+00           -1.230584e+00   \n",
       "25%   -3.712290e-01          -8.487156e-01           -7.440403e-01   \n",
       "50%   -1.799455e-01          -1.793002e-01           -2.574968e-01   \n",
       "75%    5.384542e-02           4.901152e-01            4.723184e-01   \n",
       "max    1.112703e+01           5.367284e+00            7.375154e+00   \n",
       "\n",
       "          Z_density          Z_pH   Z_sulphates    Z_alcohol     Z_quality  \n",
       "count  1.599000e+03  1.599000e+03  1.599000e+03  1599.000000  1.599000e+03  \n",
       "mean  -3.473172e-14  2.861723e-15  6.754377e-16     1.315197  8.887339e-17  \n",
       "std    1.000313e+00  1.000313e+00  1.000313e+00     0.533684  1.000313e+00  \n",
       "min   -3.538731e+00 -3.700401e+00 -1.936507e+00     0.000000 -3.265165e+00  \n",
       "25%   -6.077557e-01 -6.551405e-01 -6.382196e-01     1.000000 -7.878226e-01  \n",
       "50%    1.760083e-03 -7.212705e-03 -2.251281e-01     1.000000  4.508484e-01  \n",
       "75%    5.768249e-01  5.759223e-01  4.240158e-01     2.000000  4.508484e-01  \n",
       "max    3.680055e+00  4.528282e+00  7.918677e+00     2.000000  2.928190e+00  "
      ]
     },
     "execution_count": 25,
     "metadata": {},
     "output_type": "execute_result"
    }
   ],
   "source": [
    "z_data.describe()"
   ]
  },
  {
   "cell_type": "code",
   "execution_count": 26,
   "metadata": {},
   "outputs": [
    {
     "data": {
      "text/html": [
       "<div>\n",
       "<style scoped>\n",
       "    .dataframe tbody tr th:only-of-type {\n",
       "        vertical-align: middle;\n",
       "    }\n",
       "\n",
       "    .dataframe tbody tr th {\n",
       "        vertical-align: top;\n",
       "    }\n",
       "\n",
       "    .dataframe thead th {\n",
       "        text-align: right;\n",
       "    }\n",
       "</style>\n",
       "<table border=\"1\" class=\"dataframe\">\n",
       "  <thead>\n",
       "    <tr style=\"text-align: right;\">\n",
       "      <th></th>\n",
       "      <th>Z_fixed acidity</th>\n",
       "      <th>Z_volatile acidity</th>\n",
       "      <th>Z_citric acid</th>\n",
       "      <th>Z_residual sugar</th>\n",
       "      <th>Z_chlorides</th>\n",
       "      <th>Z_free sulfur dioxide</th>\n",
       "      <th>Z_total sulfur dioxide</th>\n",
       "      <th>Z_density</th>\n",
       "      <th>Z_pH</th>\n",
       "      <th>Z_sulphates</th>\n",
       "      <th>Z_alcohol</th>\n",
       "      <th>Z_quality</th>\n",
       "    </tr>\n",
       "  </thead>\n",
       "  <tbody>\n",
       "    <tr>\n",
       "      <th>count</th>\n",
       "      <td>1.599000e+03</td>\n",
       "      <td>1.599000e+03</td>\n",
       "      <td>1.599000e+03</td>\n",
       "      <td>1.599000e+03</td>\n",
       "      <td>1599.000000</td>\n",
       "      <td>1599.000000</td>\n",
       "      <td>1.599000e+03</td>\n",
       "      <td>1599.000000</td>\n",
       "      <td>1.599000e+03</td>\n",
       "      <td>1.599000e+03</td>\n",
       "      <td>1.599000e+03</td>\n",
       "      <td>1.599000e+03</td>\n",
       "    </tr>\n",
       "    <tr>\n",
       "      <th>mean</th>\n",
       "      <td>-1.777468e-17</td>\n",
       "      <td>-8.887339e-18</td>\n",
       "      <td>-8.887339e-17</td>\n",
       "      <td>-8.887339e-18</td>\n",
       "      <td>0.000000</td>\n",
       "      <td>0.000000</td>\n",
       "      <td>4.443669e-17</td>\n",
       "      <td>0.000000</td>\n",
       "      <td>-1.777468e-17</td>\n",
       "      <td>8.887339e-18</td>\n",
       "      <td>-1.066481e-16</td>\n",
       "      <td>-4.443669e-17</td>\n",
       "    </tr>\n",
       "    <tr>\n",
       "      <th>std</th>\n",
       "      <td>1.000313e+00</td>\n",
       "      <td>1.000313e+00</td>\n",
       "      <td>1.000313e+00</td>\n",
       "      <td>1.000313e+00</td>\n",
       "      <td>1.000313</td>\n",
       "      <td>1.000313</td>\n",
       "      <td>1.000313e+00</td>\n",
       "      <td>1.000313</td>\n",
       "      <td>1.000313e+00</td>\n",
       "      <td>1.000313e+00</td>\n",
       "      <td>1.000313e+00</td>\n",
       "      <td>1.000313e+00</td>\n",
       "    </tr>\n",
       "    <tr>\n",
       "      <th>min</th>\n",
       "      <td>-2.137045e+00</td>\n",
       "      <td>-2.278280e+00</td>\n",
       "      <td>-1.391472e+00</td>\n",
       "      <td>-1.162696e+00</td>\n",
       "      <td>-1.603945</td>\n",
       "      <td>-1.422500</td>\n",
       "      <td>-1.230584e+00</td>\n",
       "      <td>-3.538731</td>\n",
       "      <td>-3.700401e+00</td>\n",
       "      <td>-1.936507e+00</td>\n",
       "      <td>-2.465143e+00</td>\n",
       "      <td>-3.265165e+00</td>\n",
       "    </tr>\n",
       "    <tr>\n",
       "      <th>25%</th>\n",
       "      <td>-7.007187e-01</td>\n",
       "      <td>-7.699311e-01</td>\n",
       "      <td>-9.293181e-01</td>\n",
       "      <td>-4.532184e-01</td>\n",
       "      <td>-0.371229</td>\n",
       "      <td>-0.848716</td>\n",
       "      <td>-7.440403e-01</td>\n",
       "      <td>-0.607756</td>\n",
       "      <td>-6.551405e-01</td>\n",
       "      <td>-6.382196e-01</td>\n",
       "      <td>-5.907904e-01</td>\n",
       "      <td>-7.878226e-01</td>\n",
       "    </tr>\n",
       "    <tr>\n",
       "      <th>50%</th>\n",
       "      <td>-2.410944e-01</td>\n",
       "      <td>-4.368911e-02</td>\n",
       "      <td>-5.636026e-02</td>\n",
       "      <td>-2.403750e-01</td>\n",
       "      <td>-0.179946</td>\n",
       "      <td>-0.179300</td>\n",
       "      <td>-2.574968e-01</td>\n",
       "      <td>0.001760</td>\n",
       "      <td>-7.212705e-03</td>\n",
       "      <td>-2.251281e-01</td>\n",
       "      <td>-5.907904e-01</td>\n",
       "      <td>4.508484e-01</td>\n",
       "    </tr>\n",
       "    <tr>\n",
       "      <th>75%</th>\n",
       "      <td>5.057952e-01</td>\n",
       "      <td>6.266881e-01</td>\n",
       "      <td>7.652471e-01</td>\n",
       "      <td>4.341614e-02</td>\n",
       "      <td>0.053845</td>\n",
       "      <td>0.490115</td>\n",
       "      <td>4.723184e-01</td>\n",
       "      <td>0.576825</td>\n",
       "      <td>5.759223e-01</td>\n",
       "      <td>4.240158e-01</td>\n",
       "      <td>1.283563e+00</td>\n",
       "      <td>4.508484e-01</td>\n",
       "    </tr>\n",
       "    <tr>\n",
       "      <th>max</th>\n",
       "      <td>4.355149e+00</td>\n",
       "      <td>5.877976e+00</td>\n",
       "      <td>3.743574e+00</td>\n",
       "      <td>9.195681e+00</td>\n",
       "      <td>11.127035</td>\n",
       "      <td>5.367284</td>\n",
       "      <td>7.375154e+00</td>\n",
       "      <td>3.680055</td>\n",
       "      <td>4.528282e+00</td>\n",
       "      <td>7.918677e+00</td>\n",
       "      <td>1.283563e+00</td>\n",
       "      <td>2.928190e+00</td>\n",
       "    </tr>\n",
       "  </tbody>\n",
       "</table>\n",
       "</div>"
      ],
      "text/plain": [
       "       Z_fixed acidity  Z_volatile acidity  Z_citric acid  Z_residual sugar  \\\n",
       "count     1.599000e+03        1.599000e+03   1.599000e+03      1.599000e+03   \n",
       "mean     -1.777468e-17       -8.887339e-18  -8.887339e-17     -8.887339e-18   \n",
       "std       1.000313e+00        1.000313e+00   1.000313e+00      1.000313e+00   \n",
       "min      -2.137045e+00       -2.278280e+00  -1.391472e+00     -1.162696e+00   \n",
       "25%      -7.007187e-01       -7.699311e-01  -9.293181e-01     -4.532184e-01   \n",
       "50%      -2.410944e-01       -4.368911e-02  -5.636026e-02     -2.403750e-01   \n",
       "75%       5.057952e-01        6.266881e-01   7.652471e-01      4.341614e-02   \n",
       "max       4.355149e+00        5.877976e+00   3.743574e+00      9.195681e+00   \n",
       "\n",
       "       Z_chlorides  Z_free sulfur dioxide  Z_total sulfur dioxide  \\\n",
       "count  1599.000000            1599.000000            1.599000e+03   \n",
       "mean      0.000000               0.000000            4.443669e-17   \n",
       "std       1.000313               1.000313            1.000313e+00   \n",
       "min      -1.603945              -1.422500           -1.230584e+00   \n",
       "25%      -0.371229              -0.848716           -7.440403e-01   \n",
       "50%      -0.179946              -0.179300           -2.574968e-01   \n",
       "75%       0.053845               0.490115            4.723184e-01   \n",
       "max      11.127035               5.367284            7.375154e+00   \n",
       "\n",
       "         Z_density          Z_pH   Z_sulphates     Z_alcohol     Z_quality  \n",
       "count  1599.000000  1.599000e+03  1.599000e+03  1.599000e+03  1.599000e+03  \n",
       "mean      0.000000 -1.777468e-17  8.887339e-18 -1.066481e-16 -4.443669e-17  \n",
       "std       1.000313  1.000313e+00  1.000313e+00  1.000313e+00  1.000313e+00  \n",
       "min      -3.538731 -3.700401e+00 -1.936507e+00 -2.465143e+00 -3.265165e+00  \n",
       "25%      -0.607756 -6.551405e-01 -6.382196e-01 -5.907904e-01 -7.878226e-01  \n",
       "50%       0.001760 -7.212705e-03 -2.251281e-01 -5.907904e-01  4.508484e-01  \n",
       "75%       0.576825  5.759223e-01  4.240158e-01  1.283563e+00  4.508484e-01  \n",
       "max       3.680055  4.528282e+00  7.918677e+00  1.283563e+00  2.928190e+00  "
      ]
     },
     "execution_count": 26,
     "metadata": {},
     "output_type": "execute_result"
    }
   ],
   "source": [
    "std_scaler = StandardScaler()\n",
    "z_data_scaled = std_scaler.fit_transform(z_data)\n",
    "z_data_scaled = pd.DataFrame(z_data_scaled,columns=z_data.columns)\n",
    "z_data_scaled.describe()"
   ]
  },
  {
   "cell_type": "markdown",
   "metadata": {
    "id": "lNR6L31RLVV2"
   },
   "source": [
    "# 5. Feature Selection\n",
    "*\tPrincipal Component Analysis (PCA): Apply PCA to reduce the number of features.\n",
    "\n"
   ]
  },
  {
   "cell_type": "code",
   "execution_count": 28,
   "metadata": {
    "id": "fd2ufQlsLqwG"
   },
   "outputs": [
    {
     "data": {
      "text/html": [
       "<div>\n",
       "<style scoped>\n",
       "    .dataframe tbody tr th:only-of-type {\n",
       "        vertical-align: middle;\n",
       "    }\n",
       "\n",
       "    .dataframe tbody tr th {\n",
       "        vertical-align: top;\n",
       "    }\n",
       "\n",
       "    .dataframe thead th {\n",
       "        text-align: right;\n",
       "    }\n",
       "</style>\n",
       "<table border=\"1\" class=\"dataframe\">\n",
       "  <thead>\n",
       "    <tr style=\"text-align: right;\">\n",
       "      <th></th>\n",
       "      <th>PC1</th>\n",
       "      <th>PC2</th>\n",
       "      <th>PC3</th>\n",
       "      <th>PC4</th>\n",
       "      <th>PC5</th>\n",
       "      <th>PC6</th>\n",
       "    </tr>\n",
       "  </thead>\n",
       "  <tbody>\n",
       "    <tr>\n",
       "      <th>0</th>\n",
       "      <td>-1.786406</td>\n",
       "      <td>-0.223902</td>\n",
       "      <td>1.433831</td>\n",
       "      <td>0.178403</td>\n",
       "      <td>0.064422</td>\n",
       "      <td>-0.335352</td>\n",
       "    </tr>\n",
       "    <tr>\n",
       "      <th>1</th>\n",
       "      <td>-0.969942</td>\n",
       "      <td>1.514922</td>\n",
       "      <td>1.255697</td>\n",
       "      <td>0.720179</td>\n",
       "      <td>0.013037</td>\n",
       "      <td>1.108915</td>\n",
       "    </tr>\n",
       "    <tr>\n",
       "      <th>2</th>\n",
       "      <td>-0.885024</td>\n",
       "      <td>0.505557</td>\n",
       "      <td>1.234937</td>\n",
       "      <td>0.590019</td>\n",
       "      <td>-0.121541</td>\n",
       "      <td>0.500004</td>\n",
       "    </tr>\n",
       "    <tr>\n",
       "      <th>3</th>\n",
       "      <td>2.313947</td>\n",
       "      <td>-0.084316</td>\n",
       "      <td>-0.231562</td>\n",
       "      <td>-0.882284</td>\n",
       "      <td>-1.628501</td>\n",
       "      <td>-0.001066</td>\n",
       "    </tr>\n",
       "    <tr>\n",
       "      <th>4</th>\n",
       "      <td>-1.786406</td>\n",
       "      <td>-0.223902</td>\n",
       "      <td>1.433831</td>\n",
       "      <td>0.178403</td>\n",
       "      <td>0.064422</td>\n",
       "      <td>-0.335352</td>\n",
       "    </tr>\n",
       "  </tbody>\n",
       "</table>\n",
       "</div>"
      ],
      "text/plain": [
       "        PC1       PC2       PC3       PC4       PC5       PC6\n",
       "0 -1.786406 -0.223902  1.433831  0.178403  0.064422 -0.335352\n",
       "1 -0.969942  1.514922  1.255697  0.720179  0.013037  1.108915\n",
       "2 -0.885024  0.505557  1.234937  0.590019 -0.121541  0.500004\n",
       "3  2.313947 -0.084316 -0.231562 -0.882284 -1.628501 -0.001066\n",
       "4 -1.786406 -0.223902  1.433831  0.178403  0.064422 -0.335352"
      ]
     },
     "execution_count": 28,
     "metadata": {},
     "output_type": "execute_result"
    }
   ],
   "source": [
    "X = z_data_scaled.drop('Z_quality',axis =1 )\n",
    "y = z_data_scaled['Z_quality']\n",
    "\n",
    "pca = PCA(n_components=6)\n",
    "X_pca = pca.fit_transform(X)\n",
    "\n",
    "f_data = pd.DataFrame(X_pca, columns=[f'PC{i+1}' for i in range(X_pca.shape[1])])\n",
    "f_data.head()"
   ]
  },
  {
   "cell_type": "markdown",
   "metadata": {
    "id": "UtEDNaeuLXaG"
   },
   "source": [
    "# 6. Train Test Splitting\n",
    "*\tSplit the dataset so that 80% of the samples will be used for training and rest will be used for testing."
   ]
  },
  {
   "cell_type": "code",
   "execution_count": 30,
   "metadata": {
    "id": "m6skmbQ6LrLW"
   },
   "outputs": [],
   "source": [
    "X_train , X_test , y_train , y_test = train_test_split(X,y,test_size=0.2) "
   ]
  },
  {
   "cell_type": "code",
   "execution_count": 31,
   "metadata": {},
   "outputs": [
    {
     "data": {
      "text/plain": [
       "((1279, 11), (1599, 11))"
      ]
     },
     "execution_count": 31,
     "metadata": {},
     "output_type": "execute_result"
    }
   ],
   "source": [
    "X_train.shape , X.shape"
   ]
  }
 ],
 "metadata": {
  "accelerator": "GPU",
  "colab": {
   "gpuType": "T4",
   "provenance": []
  },
  "kernelspec": {
   "display_name": "Python 3 (ipykernel)",
   "language": "python",
   "name": "python3"
  },
  "language_info": {
   "codemirror_mode": {
    "name": "ipython",
    "version": 3
   },
   "file_extension": ".py",
   "mimetype": "text/x-python",
   "name": "python",
   "nbconvert_exporter": "python",
   "pygments_lexer": "ipython3",
   "version": "3.12.4"
  }
 },
 "nbformat": 4,
 "nbformat_minor": 4
}
